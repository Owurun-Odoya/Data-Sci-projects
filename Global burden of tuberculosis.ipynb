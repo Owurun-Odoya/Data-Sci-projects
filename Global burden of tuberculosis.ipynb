{
 "cells": [
  {
   "cell_type": "markdown",
   "id": "2297d63d",
   "metadata": {},
   "source": [
    "# GLOBAL BURDEN OF THE RISK FACTORS OF TUBERCULOSIS: A \n",
    "# SELECTIVE REVIEW OF THE GLOBAL TUBERCULOSIS REPORT 2022."
   ]
  },
  {
   "cell_type": "markdown",
   "id": "c16e3b71",
   "metadata": {},
   "source": [
    "## 1 AIMS, OBJECTIVES, AND BACKGROUND\n",
    "\n",
    "## 1.1 INTRODUCTION\n",
    "\n",
    " Tuberculosis (TB) is a respiratory disease caused by the bacterium Mycobacterium tuberculosis. Before the COVID-19 pandemic, TB ranked high above HIV/AIDS as the world’s leading cause of death from a lone infectious agent [1]. Over the years, efforts have been made globally to reduce the incidence of the disease, however it is necessary that its risk factors be considered in these efforts to further reduce the global incidence and burden of the disease. Some of these risk factors include: alcohol, smoking, undernutrition, diabetes, and HIV [2].\n",
    " In this project, I analyze openly available global data obtained from the World Health Organization (WHO) website on the burden of the five (5) most important risk factors for TB. As a previous sufferer of the disease who got infected despite being vaccinated against the infection, I am seeking to understand some of the factors that may have been behind why I suffered the disease as well as visually represent the hierarchy of their burden. \n",
    " The report by the WHO on the risk factors of the disease show the burden but not in a hierachical format. Thus in my project I delve into showing the hierarchy of burden each othe risk factors glaobally. The visual representations of the analysed data can show a lay person but more importantly, health policy makers, which risk factor should be tackled first and more to achieve a world free of tuberculosis sooner.\n",
    "\n",
    "## 1.2 AIMS AND OBJECTIVES\n",
    "\n",
    "## 1.2.1 AIMS\n",
    "Access public-accessible global data on the global burden of tuberculosis available on the WHO website.\n",
    "Sort through the data to find specifics on the risk factors of the disease. \n",
    "Web scrape the data and store this data in a format that enables for data cleaning and analysis.\n",
    "Clean up and modify the data so that it can be tailored to the specifics needed for the analysis.\n",
    "Perform data analysis to find the patterns of the risk factors.\n",
    "\n",
    "## 1.2.2 OBJECTIVES\n",
    "\n",
    "Some of the questions I want to answer in this project include:\n",
    "1) What are the major risk factors of tuberculosis globally?\n",
    "2) What is the current highest value of each risk factor?\n",
    "3) What is the hierarchy of the burden of these risk factors?\n",
    "4) Which risk factor poses the highest burden globally?\n",
    "\n",
    "## 1.3. DATA\n",
    "\n",
    "## 1.3.1 CHOICE OF DATA SOURCE\n",
    "Since 1997, the WHO has released an annual worldwide tuberculosis (TB) report. The paper offers a thorough and current analysis of the TB epidemic as well as developments in the disease's detection, diagnosis, and treatment at the international, regional, and national levels. \n",
    "The data used in this report is the 2022 report and it is openly available to the public through the app, website and the Github repository for WHO.\n",
    "\n",
    "## 1.3.2 RELIABILITY OF DATA\n",
    "The data published by the WHO as The Global Tuberculosis Report 2022 were collected and processed by a team of workers across the globe headed by the Director for the Global TB Program. The entire data came from a total of 215 countries clustered into 6 regions namely; WHO African region, WHO region of the Americas, WHO South-East Asia region, WHO European region, WHO Eastern Mediterranean region, and WHO Western Pacific region.[1]\n",
    "The data for the HIV burden on TB as published on The Global Tuberculosis Report 2022  was obtained from the United Nations Programme on HIV/AIDS (UNAIDS).[1]\n",
    "Both sources are internationally reputable data sources, thus reliable.\n",
    "\n",
    "## 1.3.3 DATA FORMATS AVAILABLE\n",
    "The WHO provides its openly available data in machine readable datasets. The formats are charts and tables. There are options for downloading the files in comma separated value (csv) formats either directly from their website or from their Github repository. Other data formats that could be used include JSON but the website provided the data in csv format it makes complete sense to use the data in that format instead of converting.\n",
    "\n",
    "## 1.3.4 LIMITATIONS OF DATA\n",
    "\n",
    "One major limitation of this data is that some values were missing in some rows. This could have been the result of the data collection process and there is no way to ascertain if and how those missing values would impact the results of the analysis or if it introduces a bias in the data.\n",
    "A second limitation is the fact that the data is from only one source, WHO and therefore the results are not compared to any other findings from different researchers.\n",
    "\n",
    "## 1.4 ETHICAL CONSIDERATIONS\n",
    "The data used for the analysis are obtained within the terms of data usage permitted by the WHO. In their terms of data use page they state clearly thus, “The World Health Organization (“WHO”) encourages the public to access and use the data that it collects and publishes on its website www.who.int.” [3]\n",
    "Other considerations with regards to data use in this project include proper acknowledgement of data source which is done both in-text and in the reference list. Alteration to the dataset in the data cleaning process did not involve mutilation or replacement of any figures provided by the WHO. To clean up the data, only columns irrelevant to the aims and objectives  and redundant in nature were removed, to allow for a cleaner data and for a streamlined analysis. \n",
    "There were no restrictions spelled out in the WHO's terms and conditions of data usage about web scraping their website for data. \n",
    "\n",
    "\n",
    "\n",
    "\n",
    "\n"
   ]
  },
  {
   "cell_type": "markdown",
   "id": "4cb33e33",
   "metadata": {},
   "source": [
    "## 2 WEB SCRAPING\n",
    "\n",
    "## 2.1 DATA EXTRACTION METHODOLOGY\n",
    "\n",
    "Two methods are used in extracting data in this project: web scraping and csv file.\n",
    "In the web scraping, the request library is used to get the html table of the data from the Github repository of the WHO.\n",
    "A separate csv file containing the same data was also downloaded and read using the panda library"
   ]
  },
  {
   "cell_type": "code",
   "execution_count": 2,
   "id": "657e593f",
   "metadata": {},
   "outputs": [],
   "source": [
    "#Importing all libraries and modules\n",
    "import requests\n",
    "from bs4 import BeautifulSoup\n",
    "import pandas as pd\n",
    "import csv\n",
    "import matplotlib as plt\n",
    "import seaborn as sns"
   ]
  },
  {
   "cell_type": "markdown",
   "id": "2d20e95d",
   "metadata": {},
   "source": [
    "## 2.1.1 WEB SCRAPED DATA\n",
    "Below are the functions used to scrape the data from the web and put it into a data frame"
   ]
  },
  {
   "cell_type": "code",
   "execution_count": 3,
   "id": "36cc7fd2",
   "metadata": {},
   "outputs": [
    {
     "name": "stdout",
     "output_type": "stream",
     "text": [
      "        iso3  year     risk.factor measure unit sex  age  best    lo     hi\n",
      "0        AFG  2021             hiv     inc  num   a    a   385     8   1457\n",
      "1        AFG  2021        diabetes     inc  num   a  18+  3970   649  10234\n",
      "2        AFG  2021        diabetes     inc  num   f  18+  2112   434   5090\n",
      "3        AFG  2021        diabetes     inc  num   m  18+  1854   362   4542\n",
      "4        AFG  2021         alcohol     inc  num   a  15+   655    82   1808\n",
      "...  ..  ...   ...             ...     ...  ...  ..  ...   ...   ...    ...\n",
      "2116     ZWE  2021         alcohol     inc  num   m  15+  3500  1180   7057\n",
      "2117     ZWE  2021         smoking     inc  num   a  15+  1721   201   4837\n",
      "2118     ZWE  2021         smoking     inc  num   f  15+    63    13    151\n",
      "2119     ZWE  2021         smoking     inc  num   m  15+  1794   409   4183\n",
      "2120     ZWE  2021  undernutrition     inc  num   a    a                   \n",
      "\n",
      "[2121 rows x 11 columns]\n"
     ]
    }
   ],
   "source": [
    "# Get the HTML content from the Github website link\n",
    "response = requests.get(\"https://github.com/GTB-TME/gtbreport2022/blob/main/csv/db/db_inc_risk_factor_country_2022-11-08.csv\")\n",
    "html = response.text\n",
    "\n",
    "# Use BeautifulSoup to Parse the HTML content\n",
    "soup = BeautifulSoup(html, \"html.parser\")\n",
    "\n",
    "#  From the HTML content find the table element\n",
    "table = soup.find(\"table\")\n",
    "\n",
    "# Initialize an empty list to store the table data\n",
    "data = []\n",
    "\n",
    "# Loop through each row in the table\n",
    "for row in table.find_all(\"tr\"):\n",
    "    # Initialize an empty list to store the row data\n",
    "    row_data = []\n",
    "    # Loop through each cell in the row  and use [\"td\", \"th\"] to get both data and header cells\n",
    "    for cell in row.find_all([\"td\", \"th\"]): \n",
    "        # Get the text content of the cell and strip any whitespace\n",
    "        text = cell.text.strip()\n",
    "        # Append the text to the row data list\n",
    "        row_data.append(text)\n",
    "    # Append the row data list to the table data list\n",
    "    data.append(row_data)\n",
    "\n",
    "# Import pandas\n",
    "import pandas as pd\n",
    "\n",
    "# Convert the output to a pandas dataframe\n",
    "df = pd.DataFrame(data[1:], columns=data[0])\n",
    "\n",
    "# Print the dataframe\n",
    "print(df)"
   ]
  },
  {
   "cell_type": "markdown",
   "id": "755271b5",
   "metadata": {},
   "source": [
    "## 2.1.2 CSV DATA\n",
    "Below are the functions used to read the data from the downloaded csv file and put it into a data frame"
   ]
  },
  {
   "cell_type": "code",
   "execution_count": 4,
   "id": "535e9d25",
   "metadata": {},
   "outputs": [
    {
     "name": "stdout",
     "output_type": "stream",
     "text": [
      "     iso3  year     risk.factor measure unit sex  age    best      lo       hi\n",
      "0     AFG  2021             hiv     inc  num   a    a   385.0     8.0   1457.0\n",
      "1     AFG  2021        diabetes     inc  num   a  18+  3970.0   649.0  10234.0\n",
      "2     AFG  2021        diabetes     inc  num   f  18+  2112.0   434.0   5090.0\n",
      "3     AFG  2021        diabetes     inc  num   m  18+  1854.0   362.0   4542.0\n",
      "4     AFG  2021         alcohol     inc  num   a  15+   655.0    82.0   1808.0\n",
      "...   ...   ...             ...     ...  ...  ..  ...     ...     ...      ...\n",
      "2116  ZWE  2021         alcohol     inc  num   m  15+  3500.0  1180.0   7057.0\n",
      "2117  ZWE  2021         smoking     inc  num   a  15+  1721.0   201.0   4837.0\n",
      "2118  ZWE  2021         smoking     inc  num   f  15+    63.0    13.0    151.0\n",
      "2119  ZWE  2021         smoking     inc  num   m  15+  1794.0   409.0   4183.0\n",
      "2120  ZWE  2021  undernutrition     inc  num   a    a     NaN     NaN      NaN\n",
      "\n",
      "[2121 rows x 10 columns]\n"
     ]
    }
   ],
   "source": [
    "# using padas to read the csv file \n",
    "df = pd.read_csv(\"tb-riskfactors.csv\")\n",
    "print(df)"
   ]
  },
  {
   "cell_type": "markdown",
   "id": "dd80a36e",
   "metadata": {},
   "source": [
    "## 3 DATA CLEANING AND PROCESSING\n",
    "\n",
    "The two cleaning processes applied to the data include:\n",
    "1) Removing columns that have redundant values which are the columns with \"measure\", \"unit\", and \"age\" headers respectively.\n",
    "2) Removing columns that contain NaN values.\n",
    "The redundant columns are removed to streamline the data while NAN values are removed to ensure that we do not have errors in the analysis. "
   ]
  },
  {
   "cell_type": "code",
   "execution_count": 5,
   "id": "089808a9",
   "metadata": {},
   "outputs": [
    {
     "name": "stdout",
     "output_type": "stream",
     "text": [
      "     iso3  year     risk.factor sex    best      lo       hi\n",
      "0     AFG  2021             hiv   a   385.0     8.0   1457.0\n",
      "1     AFG  2021        diabetes   a  3970.0   649.0  10234.0\n",
      "2     AFG  2021        diabetes   f  2112.0   434.0   5090.0\n",
      "3     AFG  2021        diabetes   m  1854.0   362.0   4542.0\n",
      "4     AFG  2021         alcohol   a   655.0    82.0   1808.0\n",
      "...   ...   ...             ...  ..     ...     ...      ...\n",
      "2116  ZWE  2021         alcohol   m  3500.0  1180.0   7057.0\n",
      "2117  ZWE  2021         smoking   a  1721.0   201.0   4837.0\n",
      "2118  ZWE  2021         smoking   f    63.0    13.0    151.0\n",
      "2119  ZWE  2021         smoking   m  1794.0   409.0   4183.0\n",
      "2120  ZWE  2021  undernutrition   a     NaN     NaN      NaN\n",
      "\n",
      "[2121 rows x 7 columns]\n"
     ]
    }
   ],
   "source": [
    "# Removing columns with redundant values\n",
    "dp = df.drop(columns = ['measure', 'unit', 'age'])\n",
    "print(dp)"
   ]
  },
  {
   "cell_type": "code",
   "execution_count": 13,
   "id": "e38afaac",
   "metadata": {},
   "outputs": [
    {
     "name": "stdout",
     "output_type": "stream",
     "text": [
      "     iso3  year risk.factor sex    best      lo       hi\n",
      "0     AFG  2021         hiv   a   385.0     8.0   1457.0\n",
      "1     AFG  2021    diabetes   a  3970.0   649.0  10234.0\n",
      "2     AFG  2021    diabetes   f  2112.0   434.0   5090.0\n",
      "3     AFG  2021    diabetes   m  1854.0   362.0   4542.0\n",
      "4     AFG  2021     alcohol   a   655.0    82.0   1808.0\n",
      "...   ...   ...         ...  ..     ...     ...      ...\n",
      "2115  ZWE  2021     alcohol   f   552.0   167.0   1164.0\n",
      "2116  ZWE  2021     alcohol   m  3500.0  1180.0   7057.0\n",
      "2117  ZWE  2021     smoking   a  1721.0   201.0   4837.0\n",
      "2118  ZWE  2021     smoking   f    63.0    13.0    151.0\n",
      "2119  ZWE  2021     smoking   m  1794.0   409.0   4183.0\n",
      "\n",
      "[1935 rows x 7 columns]\n"
     ]
    }
   ],
   "source": [
    "# cleaning out rows with NAN values\n",
    "df = pd.DataFrame({'A': [1, 2, None], 'B': [4, None, 6], 'C': [None, None, None]})\n",
    "df = dp.dropna()\n",
    "\n",
    "print(df)\n",
    "\n",
    "# Notice that our rows reduce from 2121 to 1935 rows"
   ]
  },
  {
   "cell_type": "markdown",
   "id": "1b3b2a59",
   "metadata": {},
   "source": [
    "## 4.0  DATA ANALYSIS\n",
    "\n",
    "In the data analysis we anwer the research questions raised in our objectives which are:\n",
    "1) What are the major risk factors of tuberculosis globally?\n",
    "2) What is the current highest prevalence value of each risk factor?\n",
    "3) What is the hierarchy of the burden of these risk factors?\n",
    "4) Which risk factor poses the highest burden globally?"
   ]
  },
  {
   "cell_type": "markdown",
   "id": "8c1a2b65",
   "metadata": {},
   "source": [
    "## 4.1 Major risk factors of tuberculosis globally\n",
    "\n",
    "To answer the first research question I count the number of risk factors by plotting them as values against the number of\n",
    " times they appear on the table"
   ]
  },
  {
   "cell_type": "code",
   "execution_count": 17,
   "id": "c84533c4",
   "metadata": {},
   "outputs": [
    {
     "data": {
      "text/plain": [
       "<Axes: >"
      ]
     },
     "execution_count": 17,
     "metadata": {},
     "output_type": "execute_result"
    },
    {
     "data": {
      "image/png": "[encoded data removed]",
      "text/plain": [
       "<Figure size 640x480 with 1 Axes>"
      ]
     },
     "metadata": {},
     "output_type": "display_data"
    }
   ],
   "source": [
    "# The count() function in pandas and plot() function from matplotlib are used below\n",
    "\n",
    "variable_counts = df['risk.factor'].value_counts()\n",
    "variable_counts.plot(kind='bar')\n",
    "\n",
    "# our chart shows us that we have five major risk factors for TB; Diabetes, alcohol, smoking, hiv, and undernutrition."
   ]
  },
  {
   "cell_type": "markdown",
   "id": "a51febfb",
   "metadata": {},
   "source": [
    "## 4.2 Highest prevalence value of each risk factor\n",
    "\n",
    "To assess the highest prevalence of each risk factor we filter through the dataframe to include rows where only one of each riak factor is contained at a time and sum the equivalent pravlence value on the 'hi' column"
   ]
  },
  {
   "cell_type": "code",
   "execution_count": 15,
   "id": "657a20be",
   "metadata": {},
   "outputs": [
    {
     "name": "stdout",
     "output_type": "stream",
     "text": [
      "1659818.0\n"
     ]
    }
   ],
   "source": [
    "# Filter the DataFrame to only include rows where the 'risk.factor' column contains 'diabetes'\n",
    "diabetes_df = df[df['risk.factor'] == 'diabetes']\n",
    "\n",
    "# Sum the values in the 'hi' column of the filtered DataFrame\n",
    "total = diabetes_df['hi'].sum()\n",
    "print(total)"
   ]
  },
  {
   "cell_type": "code",
   "execution_count": 16,
   "id": "3c81f0d2",
   "metadata": {},
   "outputs": [
    {
     "name": "stdout",
     "output_type": "stream",
     "text": [
      "3360123.0\n"
     ]
    }
   ],
   "source": [
    "#  Filter the DataFrame to only include rows where the 'risk.factor' column contains 'alcohol'\n",
    "alcohol_df = df[df['risk.factor'] == 'alcohol']\n",
    "\n",
    "# Sum the values in the 'hi' column of the filtered DataFrame\n",
    "total = diabetes_df['hi'].sum()\n",
    "print(total)"
   ]
  },
  {
   "cell_type": "code",
   "execution_count": 19,
   "id": "bdc11a73",
   "metadata": {},
   "outputs": [
    {
     "name": "stdout",
     "output_type": "stream",
     "text": [
      "3344007.0\n"
     ]
    }
   ],
   "source": [
    "# Filter the DataFrame to only include rows where the 'risk.factor' column contains 'smoking'\n",
    "smoking_df = df[df['risk.factor'] == 'smoking']\n",
    "\n",
    "# Sum the values in the 'hi' column of the filtered DataFrame\n",
    "total = diabetes_df['hi'].sum()\n",
    "print(total)"
   ]
  },
  {
   "cell_type": "code",
   "execution_count": 20,
   "id": "6d79b59a",
   "metadata": {},
   "outputs": [
    {
     "name": "stdout",
     "output_type": "stream",
     "text": [
      "1661710.0\n"
     ]
    }
   ],
   "source": [
    "# Filter the DataFrame to only include rows where the 'risk.factor' column contains 'hiv'\n",
    "\n",
    "hiv_df = df[df['risk.factor'] == 'hiv']\n",
    "\n",
    "# Sum the values in the 'hi' column of the filtered DataFrame\n",
    "total = diabetes_df['hi'].sum()\n",
    "print(total)"
   ]
  },
  {
   "cell_type": "code",
   "execution_count": 21,
   "id": "3a49dc63",
   "metadata": {
    "scrolled": true
   },
   "outputs": [
    {
     "name": "stdout",
     "output_type": "stream",
     "text": [
      "2812370.0\n"
     ]
    }
   ],
   "source": [
    "#  Filter the DataFrame to only include rows where the 'risk.factor' column contains 'undernutrition4q'\n",
    "undernutrition_df = df[df['risk.factor'] == 'undernutrition']\n",
    "\n",
    "# Sum the values in the 'hi' column of the filtered DataFrame\n",
    "total = diabetes_df['hi'].sum()\n",
    "print(total)"
   ]
  },
  {
   "cell_type": "markdown",
   "id": "14556978",
   "metadata": {
    "scrolled": true
   },
   "source": [
    "## 4.3 The hierarchy of the burden of these risk factors\n",
    "\n",
    "To show the hierarchy of the burden the risk facors, a bar chart showing the five risk factors plotted against the sum of their prevalence as indicated in the \"hi\" column is shown below"
   ]
  },
  {
   "cell_type": "code",
   "execution_count": 33,
   "id": "20f8c844",
   "metadata": {},
   "outputs": [
    {
     "data": {
      "text/plain": [
       "<Axes: xlabel='risk.factor'>"
      ]
     },
     "execution_count": 33,
     "metadata": {},
     "output_type": "execute_result"
    },
    {
     "data": {
      "image/png": "[encoded data removed]",
      "text/plain": [
       "<Figure size 640x480 with 1 Axes>"
      ]
     },
     "metadata": {},
     "output_type": "display_data"
    }
   ],
   "source": [
    "# Here we use the groupby() function in panda and the plot() function in the matplotlib libraries repectively\n",
    "grouped_df = df.groupby('risk.factor')['hi'].sum()\n",
    "\n",
    "# Plot the grouped data in a bar chart\n",
    "grouped_df.plot(kind='bar')\n",
    "\n",
    "\n"
   ]
  },
  {
   "cell_type": "markdown",
   "id": "13960a84",
   "metadata": {},
   "source": [
    "## 4.4  The risk factor that poses the highest burden globally\n",
    "\n",
    "A line plot representation shows clearly the risk factor with the highest prevalence. To create this plot we use the seaborn library"
   ]
  },
  {
   "cell_type": "code",
   "execution_count": 31,
   "id": "4d75c7c7",
   "metadata": {},
   "outputs": [
    {
     "data": {
      "text/plain": [
       "<Axes: xlabel='Risk Factor', ylabel='Frequency'>"
      ]
     },
     "execution_count": 31,
     "metadata": {},
     "output_type": "execute_result"
    },
    {
     "data": {
      "image/png": "[encoded data removed]",
      "text/plain": [
       "<Figure size 640x480 with 1 Axes>"
      ]
     },
     "metadata": {},
     "output_type": "display_data"
    }
   ],
   "source": [
    "# Group the DataFrame by the 'risk.factor' column and sum the values in the 'hi' column\n",
    "grouped_df = df.groupby('risk.factor')['hi'].sum()\n",
    "\n",
    "# Convert the grouped data into a DataFrame\n",
    "df2 = pd.DataFrame({'Risk Factor': grouped_df.index, 'Frequency': grouped_df.values})\n",
    "\n",
    "# Plot the data in a line box plot using Seaborn\n",
    "sns.lineplot(x='Risk Factor', y='Frequency', data=df2)\n",
    "\n"
   ]
  },
  {
   "cell_type": "markdown",
   "id": "918679a2",
   "metadata": {},
   "source": [
    "## 5.0 SUMMARY AND CONCLUSION\n",
    "\n",
    "It is clear from our data analysis that the risk factors for tuberculosis with the highest prevalence are smoking and alcohol. Interestingly both are lifestyle habits that can be modified with the right kind of support. Therefore in the efforts made to bring the world to zero incidence of tuberculosis, a huge chunk of the campaigns should be targeted at alcohol consumption and smoking especially in countries where undernutrition is a problem."
   ]
  },
  {
   "cell_type": "markdown",
   "id": "537462d8",
   "metadata": {},
   "source": [
    "## REFERENCES\n",
    "\n",
    "1) World Health Organization (2022). Global tuberculosis report 2022  Available at: https://www.who.int/teams/global-tuberculosis-programme/tb-reports/global-tuberculosis-report-2022 (Accessed: 27 June 2023). \n",
    "\n",
    "2) Silva, D. R., Muñoz-Torrico, M., Duarte, R., Galvão, T., Bonini, E. H., Arbex, F. F., ... & Mello, F. C. D. Q. (2018). Risk factors for tuberculosis: diabetes, smoking, alcohol use, and the use of other drugs. Jornal Brasileiro de Pneumologia, 44, 145-152.\n",
    "\n",
    "3) World Health Organization (2023). Terms and conditions of use for WHO data compilations, aggregations, evaluations and analyses. Available at: https://www.who.int/about/policies/publishing/data-policy/terms-and-conditions (Accessed: 28 June 2023)\n"
   ]
  },
  {
   "cell_type": "code",
   "execution_count": 3,
   "id": "b9e7cb70",
   "metadata": {},
   "outputs": [],
   "source": []
  },
  {
   "cell_type": "code",
   "execution_count": null,
   "id": "c4af3e85",
   "metadata": {},
   "outputs": [],
   "source": []
  },
  {
   "cell_type": "code",
   "execution_count": null,
   "id": "af45905f",
   "metadata": {},
   "outputs": [],
   "source": []
  }
 ],
 "metadata": {
  "kernelspec": {
   "display_name": "Python 3 (ipykernel)",
   "language": "python",
   "name": "python3"
  },
  "language_info": {
   "codemirror_mode": {
    "name": "ipython",
    "version": 3
   },
   "file_extension": ".py",
   "mimetype": "text/x-python",
   "name": "python",
   "nbconvert_exporter": "python",
   "pygments_lexer": "ipython3",
   "version": "3.10.9"
  }
 },
 "nbformat": 4,
 "nbformat_minor": 5
}
